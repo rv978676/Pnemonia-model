{
 "cells": [
  {
   "cell_type": "code",
   "execution_count": 2,
   "metadata": {},
   "outputs": [],
   "source": [
    "## 1. Setup\n"
   ]
  },
  {
   "cell_type": "code",
   "execution_count": null,
   "metadata": {},
   "outputs": [],
   "source": [
    "#import all the required libraries\n",
    "import matplotlib.pyplot as plt\n",
    "import numpy as np\n",
    "import os,cv2,random,shutil,keras\n",
    "import tensorflow as tf\n",
    "from tensorflow.keras.preprocessing.image import ImageDataGenerator, img_to_array\n",
    "from tensorflow.keras import layers, models\n",
    "\n",
    "import pandas as pd\n",
    "from PIL import Image as im"
   ]
  },
  {
   "cell_type": "code",
   "execution_count": null,
   "metadata": {},
   "outputs": [],
   "source": [
    "base_dir_data = \"C:/Users/rarvr/Downloads/archive2/chest_xray\"\n",
    "training_main=\"C:/Users/rarvr/Downloads/archive2/chest_xray/train\"\n",
    "testing_main=\"C:/Users/rarvr/Downloads/archive2/chest_xray/test\"\n",
    "val_main=\"C:/Users/rarvr/Downloads/archive2/chest_xray/val\"\n",
    "train_norm=\"C:/Users/rarvr/Downloads/archive2/chest_xray/train/Normal\"\n",
    "\n",
    "os.mkdir(base_dir_data+'/processing')\n",
    "os.mkdir(training_main+'/processing')\n",
    "os.mkdir(val_main+'/processing')\n",
    "os.mkdir(testing_main+'/processing')\n"
   ]
  },
  {
   "cell_type": "code",
   "execution_count": null,
   "metadata": {},
   "outputs": [],
   "source": [
    "train_dir = os.path.join('C:/Users/rarvr/Downloads/data/sorted_xray/train')\n",
    "validation_dir = os.path.join('C:/Users/rarvr/Downloads/data/sorted_xray/val')\n",
    "test_dir = os.path.join('C:/Users/rarvr/Downloads/data/sorted_xray/test')\n",
    "\n",
    "val_dir_norm=val_main+\"/NORMAL\"\n",
    "\n",
    "val_dir_pneum=val_main+\"/PNEUMONIA\"\n",
    "\n",
    "test_dir_norm=testing_main+\"/NORMAL\"\n",
    "test_dir_pneum=testing_main+\"/PNEUMONIA\"\n",
    "\n",
    "train_dir_norm=training_main+\"/NORMAL\"\n",
    "train_dir_pneum=training_main+\"/PNEUMONIA\"\n",
    "os.mkdir(val_main+\"/NORMAL\")\n",
    "os.mkdir(val_main+\"/PNEUMONIA\")\n",
    "os.mkdir(testing_main+\"/NORMAL\")\n",
    "os.mkdir(testing_main+\"/PNEUMONIA\")\n",
    "os.mkdir(training_main+\"/NORMAL\")\n",
    "os.mkdir(training_main+\"/PNEUMONIA\")\n",
    "len(os.listdir(train_dir_pneum))\n"
   ]
  },
  {
   "cell_type": "code",
   "execution_count": null,
   "metadata": {},
   "outputs": [],
   "source": [
    "img_sze = (224, 224)\n",
    "batch_size=60\n",
    "label_mode=\"binary\"\n",
    "\n",
    "training_data_resized = tf.keras.preprocessing.image_dataset_from_directory(directory=training_main, \n",
    "                                                                 image_size=img_sze,\n",
    "                                                                 label_mode=label_mode, \n",
    "                                                                 batch_size=batch_size,\n",
    "                                                                 shuffle=1\n",
    "                                                                )\n",
    "\n",
    "testing_data_resized = tf.keras.preprocessing.image_dataset_from_directory(directory=testing_main,\n",
    "                                                                image_size=img_sze,\n",
    "                                                                batch_size=batch_size,\n",
    "                                                                label_mode=label_mode,shuffle=0)\n",
    "\n",
    "\n",
    "validation_data_resized = tf.keras.preprocessing.image_dataset_from_directory(directory=val_main,\n",
    "                                                                image_size=img_sze,\n",
    "                                                                batch_size=batch_size,\n",
    "                                                                label_mode=label_mode, shuffle=0)"
   ]
  },
  {
   "cell_type": "code",
   "execution_count": null,
   "metadata": {},
   "outputs": [],
   "source": [
    "#resizing all the datasets training,testing and validation\n",
    "\n",
    "trained_data = training_data_resized.prefetch(buffer_size=tf.data.AUTOTUNE)\n",
    "test_data = testing_data_resized.prefetch(buffer_size=tf.data.AUTOTUNE)\n",
    "val_data = validation_data_resized.prefetch(buffer_size=tf.data.AUTOTUNE)"
   ]
  },
  {
   "cell_type": "code",
   "execution_count": null,
   "metadata": {},
   "outputs": [],
   "source": [
    "## modelling applied on the CNN model of Cov2D altering and maxpoolong also applied\n",
    "model = models.Sequential().add(layers.Conv2D(8, (3, 3), activation='relu',input_shape=(224, 224, 3)))\n",
    "\n",
    "model.add(layers.Conv2D(16, (3, 3), activation='relu'))\n",
    "model.add(layers.MaxPooling2D((2, 2)))\n",
    "model.add(layers.Conv2D(32, (3, 3), activation='relu'))\n",
    "model.add(layers.MaxPooling2D((2, 2)))\n",
    "model.add(layers.Conv2D(64, (3, 3), activation='relu'))\n",
    "model.add(layers.MaxPooling2D((2, 2)))\n",
    "model.add(layers.Conv2D(64, (3, 3), activation='relu'))\n",
    "model.add(layers.MaxPooling2D((2, 2)))\n",
    "model.add(layers.Conv2D(126, (3, 3), activation='relu'))\n",
    "model.add(layers.MaxPooling2D((2, 2)))\n",
    "model.add(layers.Conv2D(128, (3, 3), activation='relu'))\n",
    "model.add(layers.MaxPooling2D((2, 2)))\n",
    "# the final layer in the model is flattened and dropedout\n",
    "model.add(layers.Flatten())\n",
    "model.add(layers.Dropout(0.2))\n",
    "model.add(layers.Dense(256, activation='relu'))\n",
    "#the coutput layer includes the sigmoid function as an activator\n",
    "model.add(layers.Dense(1, activation='sigmoid'))\n",
    "#the description of the models layers are printed\n",
    "model.summary()"
   ]
  },
  {
   "cell_type": "code",
   "execution_count": null,
   "metadata": {},
   "outputs": [],
   "source": [
    "#optimization of the model using keras optimizer (adam)\n",
    "\n",
    "model.compile(loss='binary_crossentropy',\n",
    "             optimizer=tf.keras.optimizers.Adam(),\n",
    "             metrics=[\"acc\", tf.keras.metrics.Precision(), tf.keras.metrics.Recall(), tf.keras.metrics.SpecificityAtSensitivity(0.6), tf.keras.metrics.SensitivityAtSpecificity(0.4)])\n"
   ]
  },
  {
   "cell_type": "code",
   "execution_count": null,
   "metadata": {},
   "outputs": [],
   "source": [
    "# training of the model's preprocessed data\n",
    "#when using epochs more then 10 then the precision decreases as a result of overfitting\n",
    "epochs=5\n",
    "history = model.fit(trained_data,\n",
    "                   epochs=epochs,\n",
    "                   steps_per_epoch=len(trained_data),\n",
    "                   validation_data=val_data,\n",
    "                   validation_steps=len(val_data),\n",
    "                   verbose=1)"
   ]
  },
  {
   "cell_type": "code",
   "execution_count": null,
   "metadata": {},
   "outputs": [],
   "source": [
    "# finding the performace of the model\n",
    "acc = history.history['acc']\n",
    "val_acc = history.history['val_acc']\n",
    "print(list(val_acc))\n",
    "loss = history.history['loss']\n",
    "val_loss = history.history['val_loss']\n",
    "\n",
    "epochs = range(1, flt(len(acc)) + 1)\n",
    "\n",
    "plt.plot(epochs, acc, 'b', label='Training acc')\n",
    "plt.plot(epochs, val_acc, 'yellow', label='Validation acc')\n",
    "plt.title('Training and validation accuracy')\n",
    "plt.legend().figure()\n",
    "\n",
    "plt.plot(epochs, loss, 'b', label='Training loss')\n",
    "plt.plot(epochs, val_loss, 'yellow', label='Validation loss')\n",
    "plt.title('Training and validation loss')\n",
    "plt.legend()\n",
    "\n",
    "plt.show()"
   ]
  }
 ],
 "metadata": {
  "kernelspec": {
   "display_name": "Python 3",
   "language": "python",
   "name": "python3"
  },
  "language_info": {
   "codemirror_mode": {
    "name": "ipython",
    "version": 3
   },
   "file_extension": ".py",
   "mimetype": "text/x-python",
   "name": "python",
   "nbconvert_exporter": "python",
   "pygments_lexer": "ipython3",
   "version": "3.11.2"
  },
  "orig_nbformat": 4
 },
 "nbformat": 4,
 "nbformat_minor": 2
}
